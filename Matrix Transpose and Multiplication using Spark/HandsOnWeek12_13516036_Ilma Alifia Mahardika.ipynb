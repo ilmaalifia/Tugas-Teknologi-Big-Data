{
 "cells": [
  {
   "cell_type": "markdown",
   "metadata": {},
   "source": [
    "# Welcome to HandsOn Week 12\n",
    "In this HandsOn, we will try to implement one of machine learning method, which is polynomial regression. With this regression formula, $\\textbf{a} = (\\textbf{X}^T\\textbf{X})^{-1}\\textbf{X}^T\\textbf{y}$ (see the slide for the detail), we need three type of operations, which are: (i) matrix transpose, (ii) matrix multiplication and (iii) matrix inversion. In this HandsOn, you only need to implement the matrix transpose and matrix multiplication parts in Spark RDD, and for the matrix inversion, we will skip this part and will use numpy libary (yes, numpy is not for distributed computing. The purpose of using numpy is merely for pedagogical purpose and to simplify this HandsOn. For real case in distributed system, you also need to implement the matrix inversion in distributed programming, e.g., [this method](https://dl.acm.org/doi/abs/10.1145/2600212.2600220) and [this method](https://arxiv.org/pdf/1801.04723.pdf).<br>\n",
    "\n",
    "To give you a detailed flow of regression, a python implementation is given below. After that, you need to implement it in Spark RDD."
   ]
  },
  {
   "cell_type": "markdown",
   "metadata": {},
   "source": [
    "## Implementing Regression in Python\n",
    "For learning purpose, a dummy dataset is used. The regression code implementation will be same for any data you use. The only difference is how to represent your data in \"design matrix\" $\\textbf{X}$."
   ]
  },
  {
   "cell_type": "markdown",
   "metadata": {},
   "source": [
    "### Input-output data"
   ]
  },
  {
   "cell_type": "code",
   "execution_count": 3,
   "metadata": {},
   "outputs": [
    {
     "data": {
      "image/png": "[encoded data removed]",
      "text/plain": [
       "<Figure size 432x288 with 1 Axes>"
      ]
     },
     "metadata": {
      "needs_background": "light"
     },
     "output_type": "display_data"
    }
   ],
   "source": [
    "%matplotlib inline\n",
    "import numpy as np\n",
    "from numpy.linalg import inv\n",
    "from matplotlib import pyplot as plt\n",
    "\n",
    "# given input data x and label (output) data y for training\n",
    "x = np.array([[0], [1.2], [2], [2.8], [4.3], [7], [7.8], [9]])\n",
    "y = np.array(([[3], [8], [10], [9.5], [1.5], [-8], [-3.4], [2.3]]))\n",
    "\n",
    "# given data below for testing\n",
    "x_test = np.array([[5],[3]])\n",
    "y_test = np.array([[0],[6]])\n",
    "\n",
    "#plot training data for visualization purpose\n",
    "plt.scatter(x.flatten(), y.flatten(), marker=\"o\", label = \"training data\", s=60)\n",
    "plt.show()\n"
   ]
  },
  {
   "cell_type": "markdown",
   "metadata": {},
   "source": [
    "### Create matrix design $\\textbf{X}$"
   ]
  },
  {
   "cell_type": "code",
   "execution_count": 4,
   "metadata": {},
   "outputs": [
    {
     "name": "stdout",
     "output_type": "stream",
     "text": [
      "[[   1.      0.      0.      0.      0.  ]\n",
      " [   1.      1.2     1.44    1.73    2.07]\n",
      " [   1.      2.      4.      8.     16.  ]\n",
      " [   1.      2.8     7.84   21.95   61.47]\n",
      " [   1.      4.3    18.49   79.51  341.88]\n",
      " [   1.      7.     49.    343.   2401.  ]\n",
      " [   1.      7.8    60.84  474.55 3701.51]\n",
      " [   1.      9.     81.    729.   6561.  ]]\n"
     ]
    }
   ],
   "source": [
    "# your polynomial order\n",
    "order = 4\n",
    "\n",
    "# arrange input data x to matrix design X (capital x)\n",
    "def build_design_matrix(x, order):\n",
    "    X = map(lambda x: np.asarray([x**i for i in range(0,order+1)]), x.flatten())\n",
    "    X= np.asarray(list(X))\n",
    "    return X\n",
    "X = build_design_matrix(x, order)\n",
    "np.set_printoptions(precision=2, suppress=True)\n",
    "print(X)"
   ]
  },
  {
   "cell_type": "markdown",
   "metadata": {},
   "source": [
    "### Calculate regression coefficient, $\\textbf{a}$"
   ]
  },
  {
   "cell_type": "code",
   "execution_count": 5,
   "metadata": {},
   "outputs": [
    {
     "name": "stdout",
     "output_type": "stream",
     "text": [
      "a: [[ 2.6 ]\n",
      " [ 9.09]\n",
      " [-3.26]\n",
      " [ 0.27]\n",
      " [-0.  ]]\n"
     ]
    }
   ],
   "source": [
    "# Let's breakdown into each operation\n",
    "\n",
    "# calculate var1 = X^T.X,\n",
    "# (matrix transpose & multiplication)\n",
    "var1 = X.T.dot(X)\n",
    "\n",
    "# calculate var2 = X^T.y,\n",
    "# (matrix transpose & multiplication)\n",
    "var2 = X.T.dot(y)\n",
    "\n",
    "# do inversion\n",
    "inv_result = inv(var1)\n",
    "\n",
    "# calculate regression coefficient, a\n",
    "# (matrix multiplication)\n",
    "a = inv_result.dot(var2)\n",
    "print(\"a:\", a)\n",
    "# here, we have (order+1) elements of matrix a"
   ]
  },
  {
   "cell_type": "markdown",
   "metadata": {},
   "source": [
    "### Calculate the prediction result of ```x_test```"
   ]
  },
  {
   "cell_type": "code",
   "execution_count": 6,
   "metadata": {},
   "outputs": [
    {
     "name": "stdout",
     "output_type": "stream",
     "text": [
      "Prediction:\n",
      " [[-1.33]\n",
      " [ 7.56]]\n"
     ]
    }
   ],
   "source": [
    "# bring the x_test to design matrix\n",
    "X_test = build_design_matrix(x_test, order)\n",
    "\n",
    "# calculate the prediction (matrix multiplication operation)\n",
    "prediction = X_test.dot(a)\n",
    "print(\"Prediction:\\n\", prediction)"
   ]
  },
  {
   "cell_type": "markdown",
   "metadata": {},
   "source": [
    "### Plot the training data, testing data (with the prediction)"
   ]
  },
  {
   "cell_type": "code",
   "execution_count": 7,
   "metadata": {},
   "outputs": [
    {
     "data": {
      "image/png": "[encoded data removed]",
      "text/plain": [
       "<Figure size 432x288 with 1 Axes>"
      ]
     },
     "metadata": {
      "needs_background": "light"
     },
     "output_type": "display_data"
    }
   ],
   "source": [
    "def plot_result(x, y, x_test, y_test, prediction, a, order):\n",
    "    '''\n",
    "    Function to plot the regression model\n",
    "    Params:\n",
    "        x, y = training data\n",
    "        x_test, y_test = testing data\n",
    "        prediction = prediction result of x_test using regression model (matrix a)\n",
    "        a = regression model, which is the regression coefficients\n",
    "        order = order of regression model\n",
    "    '''\n",
    "    # plot training data\n",
    "    plt.scatter(x.flatten(), y.flatten(), marker=\"o\", label = \"training data\", s=60)\n",
    "\n",
    "    # plot testing data\n",
    "    plt.scatter(x_test.flatten(), y_test.flatten(), marker=\"*\", label = \"testing data\", s=130)\n",
    "\n",
    "    # plot prediction result of testing data\n",
    "    plt.scatter(x_test.flatten(), prediction.flatten(), marker=\"^\", label = \"prediction\", s=130)\n",
    "\n",
    "    # plot regression model\n",
    "    x_axis = np.asarray(np.linspace(0,9,50)).reshape((-1,1))\n",
    "    y_axis = build_design_matrix(x_axis, order).dot(a)\n",
    "    plt.plot(x_axis.flatten(), y_axis.flatten(), label = \"regression model\")\n",
    "\n",
    "    plt.xlabel(\"input\")\n",
    "    plt.ylabel(\"output\")\n",
    "    plt.legend()\n",
    "    plt.show()\n",
    "\n",
    "# call the plotting function \n",
    "plot_result(x, y, x_test, y_test, prediction, a, order)"
   ]
  },
  {
   "cell_type": "markdown",
   "metadata": {},
   "source": [
    "Now your turn to implement regression in Spark RDD (again, only **for all matrix transpose & multiplication operations** and use numpy for the matrix inversion). Use the exactly same data above so that you will get a same plotting result if you correcty code in Spark RDD."
   ]
  },
  {
   "cell_type": "markdown",
   "metadata": {},
   "source": [
    "## Milestone 1\n",
    "Make functions for matrix transpose and multiplication in Spark RDD"
   ]
  },
  {
   "cell_type": "code",
   "execution_count": 8,
   "metadata": {},
   "outputs": [],
   "source": [
    "def map_new_index(x):\n",
    "    result = []\n",
    "    new_row = 0\n",
    "    for val in x[0]:\n",
    "        result.append([new_row, [x[1], val]])\n",
    "        new_row += 1\n",
    "    return result\n",
    "\n",
    "def matrix_transpose(matrix_input):\n",
    "    '''\n",
    "    Function to get a transposed matrix\n",
    "    Param:\n",
    "        matrix_input: RDD with 2 dimensions\n",
    "    Return: transposed matrix of matrix_input\n",
    "    '''\n",
    "    map1 = matrix_input.zipWithIndex()\n",
    "    map2 = map1.flatMap(map_new_index)\n",
    "    group = map2.groupByKey()\n",
    "    final = group.map(lambda x: [j for i, j in list(x[1])])\n",
    "    \n",
    "    return final"
   ]
  },
  {
   "cell_type": "code",
   "execution_count": 9,
   "metadata": {},
   "outputs": [],
   "source": [
    "def map_matrix_A(x, num):\n",
    "    result = []\n",
    "    element = 0\n",
    "    for val in x[0]:\n",
    "        for col in range(num):\n",
    "            result.append([(x[1], col, element), val])\n",
    "        element += 1\n",
    "    return result\n",
    "\n",
    "def map_matrix_B(x, num):\n",
    "    result = []\n",
    "    col = 0\n",
    "    for val in x[0]:\n",
    "        for row in range(num):\n",
    "            result.append([(row, col, x[1]), val])\n",
    "        col += 1\n",
    "    return result\n",
    "\n",
    "def matrix_multiplication(matrix1, matrix2):\n",
    "    '''\n",
    "    Function to compute matrix multiplication in RDD\n",
    "    Params:\n",
    "        matrix1: RDD with 2 dimensions\n",
    "        matrix2: RDD with 2 dimensions\n",
    "    Return: multiplication result, in 2-D RDD\n",
    "    '''\n",
    "    col = np.array(matrix2.collect()).shape[1]\n",
    "    row = np.array(matrix1.collect()).shape[0]\n",
    "    m1 = matrix1.zipWithIndex()\n",
    "    m2 = matrix2.zipWithIndex()\n",
    "\n",
    "    map1 = m1.flatMap(lambda x: map_matrix_A(x, col))\n",
    "    map2 = m2.flatMap(lambda x: map_matrix_B(x, row))\n",
    "    \n",
    "    map12 = sc.union([map1, map2])\n",
    "    \n",
    "    group = map12.groupByKey().flatMap(lambda x: [[x[0], el] for el in list(x[1])])\n",
    "    \n",
    "    reduce_multiply = group.reduceByKey(lambda x, y: x * y).map(lambda x: [(x[0][0], x[0][1]), x[1]])\n",
    "    reduce_sum = reduce_multiply.reduceByKey(lambda x, y: x + y).sortByKey()\n",
    "    final = reduce_sum.map(lambda x: [x[0][0], [x[1]]]).reduceByKey(lambda x, y: x + y).sortByKey().map(lambda x: x[1])\n",
    "    \n",
    "    return final"
   ]
  },
  {
   "cell_type": "markdown",
   "metadata": {},
   "source": [
    "## Milestone 2\n",
    "Calculate the regression coefficient, $\\textbf{a}$, using ```matrix_transpose``` and ```matrix_multiplication``` functions you've made above, and use numpy for the matrix inversion."
   ]
  },
  {
   "cell_type": "code",
   "execution_count": 10,
   "metadata": {},
   "outputs": [
    {
     "name": "stdout",
     "output_type": "stream",
     "text": [
      "a: [[ 2.6 ]\n",
      " [ 9.09]\n",
      " [-3.26]\n",
      " [ 0.27]\n",
      " [-0.  ]]\n"
     ]
    }
   ],
   "source": [
    "rdd_X = sc.parallelize(X)\n",
    "rdd_y = sc.parallelize(y)\n",
    "\n",
    "# calculate var1 = X^T.X,\n",
    "# (matrix transpose & multiplication)\n",
    "var1 = matrix_multiplication(matrix_transpose(rdd_X), rdd_X)\n",
    "\n",
    "# calculate var2 = X^T.y,\n",
    "# (matrix transpose & multiplication)\n",
    "var2 = matrix_multiplication(matrix_transpose(rdd_X), rdd_y)\n",
    "\n",
    "# do inversion\n",
    "inv_result = inv(np.array(var1.collect()))\n",
    "\n",
    "# calculate regression coefficient, a\n",
    "# (matrix multiplication)\n",
    "a = matrix_multiplication(sc.parallelize(inv_result), var2)\n",
    "print(\"a:\", np.array(a.collect()))"
   ]
  },
  {
   "cell_type": "markdown",
   "metadata": {},
   "source": [
    "## Milestone 3\n",
    "Calculate the prediction result of ```x_test```"
   ]
  },
  {
   "cell_type": "code",
   "execution_count": 11,
   "metadata": {},
   "outputs": [
    {
     "name": "stdout",
     "output_type": "stream",
     "text": [
      "Prediction:\n",
      " [[-1.33]\n",
      " [ 7.56]]\n"
     ]
    }
   ],
   "source": [
    "# write your code here (use matrix multiplication function you've made above)\n",
    "\n",
    "prediction = matrix_multiplication(sc.parallelize(X_test), a)\n",
    "print(\"Prediction:\\n\", np.array(prediction.collect()))"
   ]
  },
  {
   "cell_type": "markdown",
   "metadata": {},
   "source": [
    "## Milestone 4\n",
    "Do plotting using ```plot_result``` function"
   ]
  },
  {
   "cell_type": "code",
   "execution_count": 12,
   "metadata": {},
   "outputs": [
    {
     "data": {
      "image/png": "[encoded data removed]",
      "text/plain": [
       "<Figure size 432x288 with 1 Axes>"
      ]
     },
     "metadata": {
      "needs_background": "light"
     },
     "output_type": "display_data"
    }
   ],
   "source": [
    "# write your code here (note: for plotting purpose, all the related data in RDD, \n",
    "# you can do \"collect()\" to obtain the corresponding local python collections -variables-\n",
    "# so that you can use them as parameters in plot_result function)\n",
    "\n",
    "plot_result(x, y, x_test, y_test, np.array(prediction.collect()), np.array(a.collect()), order)"
   ]
  },
  {
   "cell_type": "markdown",
   "metadata": {},
   "source": [
    "# Submission\n",
    "Submit this jupyter notebook to course portal with file naming format of: ```HandsOnWeek12_NIM_NamaLengkap.ipynb```. Make sure that when uploading this ipynb file, it has the output (not blank)."
   ]
  },
  {
   "cell_type": "code",
   "execution_count": 31,
   "metadata": {},
   "outputs": [
    {
     "data": {
      "text/plain": [
       "[1, 1, 1, 1, 1]"
      ]
     },
     "execution_count": 31,
     "metadata": {},
     "output_type": "execute_result"
    }
   ],
   "source": [
    "data = sc.parallelize(['1', '2', '3', '4', '5'])\n",
    "\n",
    "temp1 = data.flatMap(lambda x: (1 for i in x))\n",
    "\n",
    "temp1.collect()"
   ]
  }
 ],
 "metadata": {
  "kernelspec": {
   "display_name": "Python 3",
   "language": "python",
   "name": "python3"
  },
  "language_info": {
   "codemirror_mode": {
    "name": "ipython",
    "version": 3
   },
   "file_extension": ".py",
   "mimetype": "text/x-python",
   "name": "python",
   "nbconvert_exporter": "python",
   "pygments_lexer": "ipython3",
   "version": "3.7.4"
  }
 },
 "nbformat": 4,
 "nbformat_minor": 2
}
